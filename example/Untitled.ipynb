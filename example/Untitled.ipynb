{
 "cells": [
  {
   "cell_type": "code",
   "execution_count": 1,
   "id": "7966ad3e-3eeb-472d-bff0-c9b1f63e18db",
   "metadata": {},
   "outputs": [],
   "source": [
    "from arches_orm.resource_api import adapter\n",
    "adapter.config.update({\n",
    "    \"client\": {\"base_url\": \"http://hub3.her:3001/\"}\n",
    "})"
   ]
  },
  {
   "cell_type": "code",
   "execution_count": 2,
   "id": "f1b00a1a-5085-4221-890a-77d349ee2632",
   "metadata": {},
   "outputs": [
    {
     "name": "stderr",
     "output_type": "stream",
     "text": [
      "ARCHES ORM ADMINISTRATION MODE ON: use for debugging only, otherwise use the `context_free` or `context` decorator/with statement to achieve this result safely.\n"
     ]
    }
   ],
   "source": [
    "from arches_orm.adapter import admin_everywhere\n",
    "admin_everywhere()"
   ]
  },
  {
   "cell_type": "code",
   "execution_count": 13,
   "id": "cd9c9ef9-3bb8-46d1-aa9e-7f3ee6c64693",
   "metadata": {},
   "outputs": [],
   "source": [
    "from arches_orm.models import Monument"
   ]
  },
  {
   "cell_type": "code",
   "execution_count": 26,
   "id": "9673ccea-5a90-4e77-9573-7dce12205ea4",
   "metadata": {},
   "outputs": [],
   "source": [
    "all_the_monuments = Monument.all(limit=500, lazy=True)"
   ]
  },
  {
   "cell_type": "code",
   "execution_count": 27,
   "id": "de810d89-c580-49a6-ac3b-142518d37941",
   "metadata": {},
   "outputs": [
    {
     "data": {
      "text/plain": [
       "'53-54 Carey Street (Elizabethan Timber Framed Building & Public House)'"
      ]
     },
     "execution_count": 27,
     "metadata": {},
     "output_type": "execute_result"
    }
   ],
   "source": [
    "all_the_monuments[0].monument_names[0].monument_name"
   ]
  },
  {
   "cell_type": "code",
   "execution_count": 34,
   "id": "70aac0bd-1853-4959-9924-d76eb5a6668d",
   "metadata": {},
   "outputs": [
    {
     "data": {
      "text/plain": [
       "9"
      ]
     },
     "execution_count": 34,
     "metadata": {},
     "output_type": "execute_result"
    }
   ],
   "source": [
    "pubs = []\n",
    "for monument in all_the_monuments:\n",
    "    if \"Public House\" in monument.monument_names[0].monument_name:\n",
    "        pubs.append(monument)\n",
    "len(pubs)"
   ]
  },
  {
   "cell_type": "code",
   "execution_count": 43,
   "id": "b6fe8a67-9c42-488a-ac38-6863a5db3d3e",
   "metadata": {},
   "outputs": [
    {
     "data": {
      "text/plain": [
       "'53-54 Carey Street, London, WC2A 2JB'"
      ]
     },
     "execution_count": 43,
     "metadata": {},
     "output_type": "execute_result"
    }
   ],
   "source": [
    "pubs[0].location_data.addresses[0].full_address"
   ]
  },
  {
   "cell_type": "code",
   "execution_count": 61,
   "id": "cc1f1c79-86d6-49e3-932f-bb19fbc48da0",
   "metadata": {},
   "outputs": [
    {
     "data": {
      "text/plain": [
       "['CAMDEN',\n",
       " 'TQ3081SE                  CAREY STREET           798-1/106/175             (North side)           14/05/74                  Nos.53 AND 54                                     Seven Stars Public House',\n",
       " 'II',\n",
       " 'Formerly known as: The Log and Seven Stars Public House CAREY           STREET.           Public house. Perhaps C17 in origins (dated 1602) with later           alterations and additions. Painted brick clads partial timber           frame; slate roof.           2 storeys and attic; 4 windows, that to right broader and set           in projecting jetty which may have been a separate building.           Ground floor with C19 wooden public house frontage of 4           windows and 2 entrances flanked by pilasters; panelled aprons           to windows. Gauged brick flat arches to 1st floor recessed           sashes, except 1 window in jettied bay to right with reeded,           architraved surround.           INTERIOR: two rooms to ground floor. C19 bar backs with           mirrors, that to larger bars with cupboards. Bar counters to           both rooms of similar date. c1900 corner fireplace in           right-hand bar, its joinery continues as ledges round side           walls and across windows. Ceilings with thin beams of similar           date masking earlier framing. Narrow stair to upper floors set           behind main bar.',\n",
       " 'Listing NGR: TQ3099281245']"
      ]
     },
     "execution_count": 61,
     "metadata": {},
     "output_type": "execute_result"
    }
   ],
   "source": [
    "pubs[0].descriptions[1].description.split(\"\\n\")"
   ]
  },
  {
   "cell_type": "code",
   "execution_count": 76,
   "id": "cd663adc-5fe6-4295-83d6-95f21fdf3a7c",
   "metadata": {},
   "outputs": [],
   "source": [
    "import re"
   ]
  },
  {
   "cell_type": "code",
   "execution_count": 86,
   "id": "de8b5de8-1ae4-4c38-84bd-560647321405",
   "metadata": {},
   "outputs": [
    {
     "name": "stdout",
     "output_type": "stream",
     "text": [
      "CAMDEN\n",
      "TQ3081SE\n",
      "CAREY STREET\n",
      "798-1/106/175\n",
      "(North side)\n",
      "14/05/74\n",
      "Nos.53 AND 54\n",
      "Seven Stars Public House\n",
      "II\n",
      "Formerly known as: The Log and Seven Stars Public House CAREY\n",
      "STREET.\n",
      "Public house. Perhaps C17 in origins (dated 1602) with later\n",
      "alterations and additions. Painted brick clads partial timber\n",
      "frame; slate roof.\n",
      "2 storeys and attic; 4 windows, that to right broader and set\n",
      "in projecting jetty which may have been a separate building.\n",
      "Ground floor with C19 wooden public house frontage of 4\n",
      "windows and 2 entrances flanked by pilasters; panelled aprons\n",
      "to windows. Gauged brick flat arches to 1st floor recessed\n",
      "sashes, except 1 window in jettied bay to right with reeded,\n",
      "architraved surround.\n",
      "INTERIOR: two rooms to ground floor. C19 bar backs with\n",
      "mirrors, that to larger bars with cupboards. Bar counters to\n",
      "both rooms of similar date. c1900 corner fireplace in\n",
      "right-hand bar, its joinery continues as ledges round side\n",
      "walls and across windows. Ceilings with thin beams of similar\n",
      "date masking earlier framing. Narrow stair to upper floors set\n",
      "behind main bar.\n",
      "Listing NGR: TQ3099281245\n"
     ]
    }
   ],
   "source": [
    "print(\"\\n\".join(re.split(r\"\\s\\s+\", pubs[0].descriptions[1].description)))"
   ]
  }
 ],
 "metadata": {
  "kernelspec": {
   "display_name": "Python 3 (ipykernel)",
   "language": "python",
   "name": "python3"
  },
  "language_info": {
   "codemirror_mode": {
    "name": "ipython",
    "version": 3
   },
   "file_extension": ".py",
   "mimetype": "text/x-python",
   "name": "python",
   "nbconvert_exporter": "python",
   "pygments_lexer": "ipython3",
   "version": "3.11.9"
  }
 },
 "nbformat": 4,
 "nbformat_minor": 5
}
